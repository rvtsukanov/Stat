{
 "cells": [
  {
   "cell_type": "code",
   "execution_count": 38,
   "metadata": {
    "collapsed": false
   },
   "outputs": [],
   "source": [
    "import numpy as np\n",
    "import matplotlib.pyplot as plt\n",
    "from scipy import stats\n",
    "%matplotlib inline"
   ]
  },
  {
   "cell_type": "code",
   "execution_count": 36,
   "metadata": {
    "collapsed": true
   },
   "outputs": [],
   "source": [
    "X = np.random.normal(loc = 3, scale = 10, size = 10000)"
   ]
  },
  {
   "cell_type": "code",
   "execution_count": 32,
   "metadata": {
    "collapsed": true
   },
   "outputs": [],
   "source": [
    "def S0(X):\n",
    "    xm = X.mean()\n",
    "    return 1/(X.shape[0] - 1) * ((X-X.mean()) ** 2).sum()"
   ]
  },
  {
   "cell_type": "code",
   "execution_count": 86,
   "metadata": {
    "collapsed": false
   },
   "outputs": [],
   "source": [
    "def S1(X, a):\n",
    "    #не среднее, а М.О.\n",
    "    return 1/X.shape[0] * ((X-a) ** 2).sum()"
   ]
  },
  {
   "cell_type": "code",
   "execution_count": 33,
   "metadata": {
    "collapsed": true
   },
   "outputs": [],
   "source": [
    "def S(X):\n",
    "    xm = X.mean()\n",
    "    return 1/(X.shape[0]) * ((X-X.mean()) ** 2).sum()"
   ]
  },
  {
   "cell_type": "markdown",
   "metadata": {},
   "source": [
    "Интервал для $а$, при неизвестном $\\sigma$:\n",
    "$$\\sqrt{n} \\cdot \\frac{\\bar{X} - a}{\\sigma} \\in N_{0, 1}$$\n",
    "$$P \\left( \\bar{X} - \\frac{\\tau\\sigma}{\\sqrt{n}} < a < \\bar{X} + \\frac{\\tau\\sigma}{\\sqrt{n}}\\right) = 1 - \\varepsilon$$"
   ]
  },
  {
   "cell_type": "code",
   "execution_count": 52,
   "metadata": {
    "collapsed": true
   },
   "outputs": [],
   "source": [
    "def ProbInterval1(X, sig, eps = 0.05):\n",
    "    return (X.mean() - (stats.norm.ppf(1 - eps/2)) * sig/ np.sqrt(X.shape[0]), X.mean() + (stats.norm.ppf(1 - eps/2)) * sig/ np.sqrt(X.shape[0]))"
   ]
  },
  {
   "cell_type": "markdown",
   "metadata": {},
   "source": [
    "Интервал для $\\sigma^2$ при известном $a$:\n",
    "$$\\sum_{i = 1}^{n}\\left(\\frac{X_i - a}{\\sigma}\\right)^2 \\in H_n$$\n",
    "$$P \\left( \\frac{n S_1^2}{g_2} < \\sigma^2 < \\frac{n S_1^2}{g_1}\\right) = 1 - \\varepsilon$$ где $S_1^2 = \\frac{1}{n} \\sum_{i = 1}^{n}\\left(X_i - a\\right)^2$"
   ]
  },
  {
   "cell_type": "code",
   "execution_count": 65,
   "metadata": {
    "collapsed": false
   },
   "outputs": [
    {
     "data": {
      "text/plain": [
       "(0.89849893527867009, 4.8184269043587786)"
      ]
     },
     "execution_count": 65,
     "metadata": {},
     "output_type": "execute_result"
    }
   ],
   "source": [
    "ProbInterval1(X, 100)"
   ]
  },
  {
   "cell_type": "code",
   "execution_count": 76,
   "metadata": {
    "collapsed": true
   },
   "outputs": [],
   "source": [
    "def ProbInterval2(X, a, eps = 0.05):\n",
    "    return (X.shape[0] * S1(X, a)/ stats.chi2.ppf(1 - eps/2, X.shape[0]), X.shape[0] * S1(X,a )/ stats.chi2.ppf(eps/2, X.shape[0])) "
   ]
  },
  {
   "cell_type": "code",
   "execution_count": 77,
   "metadata": {
    "collapsed": false
   },
   "outputs": [
    {
     "data": {
      "text/plain": [
       "(96.531441919444632, 102.03415950457915)"
      ]
     },
     "execution_count": 77,
     "metadata": {},
     "output_type": "execute_result"
    }
   ],
   "source": [
    "ProbInterval2(X, 3)"
   ]
  },
  {
   "cell_type": "markdown",
   "metadata": {},
   "source": [
    "Интервал для $\\sigma^2$ при неизвестном $a$\n",
    "$$\\frac{(n - 1)S_0^2}{\\sigma^2} \\in H_{n-1}$$\n",
    "$$P \\left( \\frac{(n-1) S_0^2}{g_2} < \\sigma^2 < \\frac{(n-1) S_0^2}{g_1}\\right) = 1 - \\varepsilon$$"
   ]
  },
  {
   "cell_type": "code",
   "execution_count": 85,
   "metadata": {
    "collapsed": false
   },
   "outputs": [],
   "source": [
    "def ProbInterval3(X, eps = 0.05):\n",
    "    return ((X.shape[0] - 1) * S(X)/ stats.chi2.ppf(1 - eps/2, X.shape[0] - 1), (X.shape[0] - 1) * S(X)/ stats.chi2.ppf(eps/2, (X.shape[0] -1)))"
   ]
  },
  {
   "cell_type": "code",
   "execution_count": 83,
   "metadata": {
    "collapsed": false
   },
   "outputs": [
    {
     "data": {
      "text/plain": [
       "(96.511821144251286, 102.01370308359003)"
      ]
     },
     "execution_count": 83,
     "metadata": {},
     "output_type": "execute_result"
    }
   ],
   "source": [
    "ProbInterval3(X)"
   ]
  },
  {
   "cell_type": "markdown",
   "metadata": {},
   "source": [
    "Интервал для $a$ при неизвестном $\\sigma$\n",
    "$$\\sqrt{n} \\cdot \\frac{\\bar{X} - a}{S_0} \\in T_{n-1}$$\n",
    "$$P \\left( \\bar{X} - \\frac{cS_0}{\\sqrt{n}} < a < \\bar{X} + \\frac{cS_0}{\\sqrt{n}}\\right) = 1 - \\varepsilon$$"
   ]
  },
  {
   "cell_type": "code",
   "execution_count": 90,
   "metadata": {
    "collapsed": true
   },
   "outputs": [],
   "source": [
    "def ProbInterval4(X, eps = 0.05):\n",
    "    return (X.mean() - (stats.t.ppf(1 - eps/2, X.shape[0] - 1)) * S0(X)/ np.sqrt(X.shape[0]), X.mean() + (stats.t.ppf(1 - eps/2, X.shape[0] - 1)) * S0(X)/ np.sqrt(X.shape[0]))"
   ]
  },
  {
   "cell_type": "code",
   "execution_count": 91,
   "metadata": {
    "collapsed": false
   },
   "outputs": [
    {
     "data": {
      "text/plain": [
       "(0.91364462211581943, 4.8032812175216293)"
      ]
     },
     "execution_count": 91,
     "metadata": {},
     "output_type": "execute_result"
    }
   ],
   "source": [
    "ProbInterval4(X)"
   ]
  }
 ],
 "metadata": {
  "kernelspec": {
   "display_name": "Python 3",
   "language": "python",
   "name": "python3"
  },
  "language_info": {
   "codemirror_mode": {
    "name": "ipython",
    "version": 3
   },
   "file_extension": ".py",
   "mimetype": "text/x-python",
   "name": "python",
   "nbconvert_exporter": "python",
   "pygments_lexer": "ipython3",
   "version": "3.6.0"
  }
 },
 "nbformat": 4,
 "nbformat_minor": 2
}
